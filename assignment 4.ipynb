{
 "cells": [
  {
   "cell_type": "markdown",
   "metadata": {},
   "source": [
    "## 1.1 Write a Python Program(with class concepts) to find the area of the triangle using the below\n",
    "# formula.\n",
    "# area = (s*(s-a)*(s-b)*(s-c)) ** 0.5\n",
    "# Function to take the length of the sides of triangle from user should be defined in the parent\n",
    "# class and function to calculate the area should be defined in subclass."
   ]
  },
  {
   "cell_type": "code",
   "execution_count": 22,
   "metadata": {},
   "outputs": [],
   "source": [
    "class A:\n",
    "    def __init__(self):\n",
    "        self.a = float(input(\"enter side 1 : \"))\n",
    "        self.b = float(input(\"enter side 2 : \"))\n",
    "        self.c = float(input(\"enter side 3 : \"))\n",
    "\n",
    "class B(A):\n",
    "    def area_of_triangle(self):\n",
    "        s = (self.a + self.b + self.c)/2\n",
    "        area = (s*(s-self.a)*(s-self.b)*(s-self.c)) ** 0.5\n",
    "        return area\n",
    "    "
   ]
  },
  {
   "cell_type": "code",
   "execution_count": 23,
   "metadata": {},
   "outputs": [
    {
     "name": "stdout",
     "output_type": "stream",
     "text": [
      "enter side 1 : 4\n",
      "enter side 2 : 5\n",
      "enter side 3 : 6\n",
      "area of triangle is : 9.922 cm²\n"
     ]
    }
   ],
   "source": [
    "obj = B()\n",
    "print(\"area of triangle is : {:.3f} cm\\u00b2\".format(obj.area_of_triangle()))"
   ]
  },
  {
   "cell_type": "markdown",
   "metadata": {},
   "source": [
    "## 1.2 Write a function filter_long_words() that takes a list of words and an integer n and returns the list of words that are longer than n.\n"
   ]
  },
  {
   "cell_type": "code",
   "execution_count": 24,
   "metadata": {},
   "outputs": [],
   "source": [
    "def filter_long_words(words,n):\n",
    "    lst = []\n",
    "    for i in words:\n",
    "        if len(i)>n:\n",
    "            lst.append(i)\n",
    "    return lst\n"
   ]
  },
  {
   "cell_type": "code",
   "execution_count": 25,
   "metadata": {},
   "outputs": [
    {
     "name": "stdout",
     "output_type": "stream",
     "text": [
      "long words are :  ['hrishikesh', 'piyush', 'avinash']\n"
     ]
    }
   ],
   "source": [
    "lst1 = ['hrishikesh','piyush','ayush','avinash','ankit']\n",
    "words = filter_long_words(lst1,5)\n",
    "print(\"long words are : \",words)"
   ]
  },
  {
   "cell_type": "markdown",
   "metadata": {},
   "source": [
    "# 2.1 Write a Python program using function concept that maps list of words into a list of integers\n",
    "#     representing the lengths of the corresponding words.\n",
    "#     Hint: If a list [ ab,cde,erty] is passed on to the python function output should come as [2,3,4]\n",
    "#     Here 2,3 and 4 are the lengths of the words in the list."
   ]
  },
  {
   "cell_type": "code",
   "execution_count": 35,
   "metadata": {},
   "outputs": [],
   "source": [
    "def length(lst):\n",
    "    return len(lst)"
   ]
  },
  {
   "cell_type": "code",
   "execution_count": 42,
   "metadata": {},
   "outputs": [
    {
     "name": "stdout",
     "output_type": "stream",
     "text": [
      "['ab', 'cde', 'erty'] \n",
      " [2, 3, 4]\n"
     ]
    }
   ],
   "source": [
    "l = ['ab','cde','erty']\n",
    "c = list(map(length,l))\n",
    "print(l,\"\\n\",c)"
   ]
  },
  {
   "cell_type": "markdown",
   "metadata": {},
   "source": [
    "# 2.2 Write a Python function which takes a character (i.e. a string of length 1) and returns True if it is a vowel, False otherwise.\n"
   ]
  },
  {
   "cell_type": "code",
   "execution_count": 26,
   "metadata": {},
   "outputs": [],
   "source": [
    "def vowel(word):\n",
    "    if (word == 'a' or word == 'e' or word == 'i' or word == 'o' or word == 'u' ):\n",
    "        return True\n",
    "    else:\n",
    "        return False\n",
    "    "
   ]
  },
  {
   "cell_type": "code",
   "execution_count": 27,
   "metadata": {},
   "outputs": [
    {
     "name": "stdout",
     "output_type": "stream",
     "text": [
      "enter a character : g\n",
      "False\n"
     ]
    }
   ],
   "source": [
    "obj1 = fun1(input(\"enter a character : \"))\n",
    "print(obj1)"
   ]
  },
  {
   "cell_type": "code",
   "execution_count": null,
   "metadata": {},
   "outputs": [],
   "source": []
  }
 ],
 "metadata": {
  "kernelspec": {
   "display_name": "Python 3",
   "language": "python",
   "name": "python3"
  },
  "language_info": {
   "codemirror_mode": {
    "name": "ipython",
    "version": 3
   },
   "file_extension": ".py",
   "mimetype": "text/x-python",
   "name": "python",
   "nbconvert_exporter": "python",
   "pygments_lexer": "ipython3",
   "version": "3.7.1"
  }
 },
 "nbformat": 4,
 "nbformat_minor": 2
}
